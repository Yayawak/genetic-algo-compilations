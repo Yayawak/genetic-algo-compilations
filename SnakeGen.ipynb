{
 "cells": [
  {
   "cell_type": "code",
   "execution_count": 2,
   "id": "e9020bc8-9c7f-4c4e-8c72-cd8d3183158f",
   "metadata": {},
   "outputs": [],
   "source": [
    "import numpy as np\n",
    "import matplotlib.pyplot as plt\n",
    "from typing import Tuple, List, Optional"
   ]
  },
  {
   "cell_type": "code",
   "execution_count": 3,
   "id": "ce766357-3268-4d6f-b829-d945f191f0c9",
   "metadata": {},
   "outputs": [
    {
     "name": "stdout",
     "output_type": "stream",
     "text": [
      "[3]\n",
      "[2]\n",
      "3\n"
     ]
    }
   ],
   "source": [
    "A = np.ones([5, 5])\n",
    "A[3, 2] = 100\n",
    "A\n",
    "# np.argsort(A)\n",
    "xs, ys = np.where(A == 100)\n",
    "print(xs)\n",
    "print(ys)\n",
    "print(xs[0])"
   ]
  },
  {
   "cell_type": "code",
   "execution_count": 9,
   "id": "72a48dfb-f4c5-46d0-a1ad-8f71cbed5712",
   "metadata": {},
   "outputs": [
    {
     "name": "stdout",
     "output_type": "stream",
     "text": [
      "[[  0.   0.   0.   0.   0.]\n",
      " [  0.   0.   0.   0.   0.]\n",
      " [  0.   0. 100. 999.   0.]\n",
      " [  0.   0.   0.   0.   0.]\n",
      " [  0.   0.   0.   0.   0.]]\n"
     ]
    }
   ],
   "source": [
    "head_value = 1000000000000000\n",
    "head_value = 100\n",
    "\n",
    "def start_board():\n",
    "    b = np.zeros([5, 5])\n",
    "\n",
    "    # b = np.zeros([10, 8])\n",
    "    # b = np.zeros([30, 30])\n",
    "\n",
    "    b[2, 2] = head_value\n",
    "     # b[5, 3] = head_value\n",
    "\n",
    "\n",
    "    \n",
    "    return b\n",
    "\n",
    "board = start_board()\n",
    "board[2, 3] = 999\n",
    "# board[2, 0] = 999\n",
    "# reward = update_board(board, 0)\n",
    "print(board)\n",
    "# print(reward)"
   ]
  },
  {
   "cell_type": "code",
   "execution_count": 10,
   "id": "1e6b7abd-643e-459c-8240-d18b591b5121",
   "metadata": {},
   "outputs": [
    {
     "data": {
      "text/plain": [
       "(array([2]), array([3]))"
      ]
     },
     "execution_count": 10,
     "metadata": {},
     "output_type": "execute_result"
    }
   ],
   "source": [
    "np.where(board == food_value)"
   ]
  },
  {
   "cell_type": "code",
   "execution_count": 11,
   "id": "4260f56c-688e-433f-a737-0fa8d0cf4ba5",
   "metadata": {},
   "outputs": [
    {
     "data": {
      "text/plain": [
       "(False, 0)"
      ]
     },
     "execution_count": 11,
     "metadata": {},
     "output_type": "execute_result"
    }
   ],
   "source": [
    "food_value = 999\n",
    "chance_refood_pos = 0.8\n",
    "\n",
    "\n",
    "\n",
    "                \n",
    "def update_board(board:np.array, directionToGo:int):\n",
    "    def clear_food_on_board():\n",
    "        ys, xs = np.where(board == food_value)\n",
    "        for y, x in zip(ys, xs):\n",
    "            board[y, x] = 0\n",
    "\n",
    "    # def isFoundFood(x, y):\n",
    "    #     return (board[y, x] == food_value)\n",
    "\n",
    "    def set_new_food_on_board():\n",
    "        clear_food_on_board()\n",
    "        x = np.random.randint(0, board.shape[1])\n",
    "        y = np.random.randint(0, board.shape[0])\n",
    "        if board[y, x] == head_value:\n",
    "            set_new_food_on_board()\n",
    "            return\n",
    "            # return\n",
    "        board[y, x] = food_value\n",
    "\n",
    "    if (np.random.rand() < chance_refood_pos):\n",
    "        set_new_food_on_board()\n",
    "    # global end_game\n",
    "    local_end = False\n",
    "    # 0,1,2,3 -> r,t,l,b\n",
    "    # try:\n",
    "    # print(board)\n",
    "    # yx, xs = np.where(board == 100)\n",
    "    # print(\"xs ys : \", xs, ys)\n",
    "    # xhead = xs[0]\n",
    "    # yhead = ys[0]\n",
    "    # print(f\"old head is at [{},{xhead}]\")\n",
    "    # xys = np.where(board == head_value)\n",
    "    # if xys.shape\n",
    "    xhead = np.where(board == head_value)[1][0]\n",
    "    yhead = np.where(board == head_value)[0][0]\n",
    "\n",
    "    \n",
    "    board[yhead, xhead] = 0\n",
    "    # board[xhead, yhead] = 0\n",
    "    # print(np.argmax(board))\n",
    "    # print(np.where(board == 100))\n",
    "\n",
    "\n",
    "    if (directionToGo == 0):\n",
    "        xhead += 1\n",
    "        ...\n",
    "    elif (directionToGo == 1):\n",
    "        yhead -= 1\n",
    "    elif (directionToGo == 2):\n",
    "        xhead -= 1\n",
    "        ...\n",
    "    elif (directionToGo == 3):\n",
    "        yhead += 1\n",
    "\n",
    "    # print(\"shape of board is \", board.shape)\n",
    "        # set new head\n",
    "    if xhead < 0:\n",
    "        xhead = 0\n",
    "        local_end = True\n",
    "    if xhead >= board.shape[1] - 1:\n",
    "        xhead = board.shape[1] - 1\n",
    "        local_end = True\n",
    "    if yhead < 0:\n",
    "        yhead = 0\n",
    "        local_end = True\n",
    "    if yhead >= board.shape[0] - 1:\n",
    "        yhead = board.shape[0] - 1\n",
    "        local_end = True\n",
    "        \n",
    "\n",
    "    if local_end == True:\n",
    "        # print(\"ignore out of bound setting new head of snake\")\n",
    "        board[yhead, xhead] = head_value\n",
    "\n",
    "        return (True, 0)\n",
    "        # return\n",
    "    # else:\n",
    "    # try:\n",
    "    # print(f\"new head is at [{yhead},{xhead}]\")\n",
    "\n",
    "    # if isFoundFood(xhead, yhead): #  go to that block and eat\n",
    "    if board[yhead, xhead] == food_value:\n",
    "        # print(\"FOUND FOOD\" * 100)\n",
    "        board[yhead, xhead] = head_value\n",
    "        return (False, 1) # 1 is sig that tell plus food count\n",
    "\n",
    "\n",
    "    board[yhead, xhead] = head_value\n",
    "    # except:\n",
    "    #     print(\"ignore out of bound setting new head of snake\")\n",
    "    #     return\n",
    "    # return (local_end, 0)\n",
    "    return (False, 0)\n",
    "\n",
    "        \n",
    "    # if ()\n",
    "\n",
    "update_board(board, 1)"
   ]
  },
  {
   "cell_type": "code",
   "execution_count": 12,
   "id": "8cbdec3f-8d3e-45c9-90ff-8065515d16e4",
   "metadata": {},
   "outputs": [],
   "source": [
    "def softmax_activate(layer:np.array):\n",
    "    m = np.exp(layer)\n",
    "    return m / m.sum()"
   ]
  },
  {
   "cell_type": "code",
   "execution_count": 13,
   "id": "6c68c146-778c-4434-be99-f525e562fc12",
   "metadata": {},
   "outputs": [],
   "source": [
    "def sigmoid_activate(layer:np.array):\n",
    "    return 1 / (1 + np.exp(-layer))"
   ]
  },
  {
   "cell_type": "code",
   "execution_count": 14,
   "id": "694fa1d5-8bc1-42c2-892e-2c33f4f1f55a",
   "metadata": {},
   "outputs": [
    {
     "name": "stdout",
     "output_type": "stream",
     "text": [
      "List of decision : \n",
      "[0.22976113 0.20602139 0.2500343  0.31418317]\n",
      "Decision taken :  3\n"
     ]
    }
   ],
   "source": [
    "\n",
    "nb_layers = 5\n",
    "neuron_each_layer = 2\n",
    "chance_of_mutation = 0.1\n",
    "\n",
    "class NN():\n",
    "    def __init__(self, observation_size, isACopy=False):\n",
    "        self._layers = []\n",
    "        self._biases = []\n",
    "\n",
    "        \n",
    "        # output if 4 direction to go\n",
    "        self._outputs = np.random.rand(4, neuron_each_layer) * 2 - 1\n",
    "\n",
    "        if not isACopy: # create new layers init data from start\n",
    "            for i in range(nb_layers):\n",
    "                entry_size = neuron_each_layer if i != 0 else observation_size\n",
    "                #                   2, 16\n",
    "                                  # 2, 2\n",
    "                rdl = np.random.rand(neuron_each_layer, entry_size) * 2 - 1\n",
    "                self._layers.append(rdl)\n",
    "                rdb = np.random.rand(neuron_each_layer, 1) * 2 - 1\n",
    "                self._biases.append(rdb)\n",
    "\n",
    "    \n",
    "        # for i in range(nb_layers):\n",
    "        #     print(\"layer \", i, end=\" \")\n",
    "        #     # print(self._layers[i])\n",
    "        #     print(self._layers[i].shape)\n",
    "        # print()\n",
    "        # print(self._layers)\n",
    "\n",
    "    def forward(self, inputs):\n",
    "        self = self.mutate()\n",
    "        inputVec = inputs.reshape((-1, 1))\n",
    "\n",
    "        # f)\n",
    "        # for i in range(inputVec.shape[0]):\n",
    "        #     if (inputVec[i] == head_value):\n",
    "                # inputVec[i] *= 100000\n",
    "\n",
    "        for layer, bias in zip(self._layers, self._biases):\n",
    "            # round 0 [2, 16] x [16, 1] -> [2, 1]\n",
    "            #! round 1 [2, 2 ] x [2, 1]  -> [2, 1]\n",
    "            inputVec = np.matmul(layer, inputVec)\n",
    "            inputVec = inputVec + bias\n",
    "            inputVec = sigmoid_activate(inputVec)\n",
    "\n",
    "        output_layer = np.matmul(self._outputs, inputVec)\n",
    "        output_layer = output_layer.reshape(-1)\n",
    "        \n",
    "        # return inputVec\n",
    "        return softmax_activate(output_layer)\n",
    "\n",
    "    def mutate(self):\n",
    "        new_snake = NN(self._layers[0].shape[1], isACopy=True)\n",
    "\n",
    "        for l in self._layers:\n",
    "            random_mutation_probs = np.random.rand(l.shape[0], l.shape[1])\n",
    "            random_mutation_values = np.where(\n",
    "                random_mutation_probs < chance_of_mutation,\n",
    "                # np.random.rand()\n",
    "                (np.random.rand() - 0.5) / 2, 0\n",
    "            )\n",
    "            new_layer = l + random_mutation_values\n",
    "            new_snake._layers.append(new_layer)\n",
    "            \n",
    "        for b in self._biases:\n",
    "            random_mutation_probs = np.random.rand(b.shape[0], 1)\n",
    "            random_mutation_values = np.where(\n",
    "                random_mutation_probs < chance_of_mutation,\n",
    "                # np.random.rand()\n",
    "                (np.random.rand() - 0.5) / 2, 0\n",
    "\n",
    "            )\n",
    "            new_bias = b + random_mutation_values\n",
    "            new_snake._biases.append(new_bias)\n",
    "\n",
    "        random_mutation_probs = np.random.rand(\n",
    "            self._outputs.shape[0], self._outputs.shape[1])\n",
    "        random_mutation_values = np.where(\n",
    "            random_mutation_probs < chance_of_mutation,\n",
    "            (np.random.rand() - 0.5) / 2, 0\n",
    "        )\n",
    "        new_snake._outputs += random_mutation_values\n",
    "        return new_snake\n",
    "\n",
    "    def set_reward(self, r):\n",
    "        self._reward = r\n",
    "\n",
    "\n",
    "board = start_board()\n",
    "# data = np.ones([4, 4])\n",
    "data_size = board.shape[0] * board.shape[1]\n",
    "# data.size\n",
    "nn = NN(data_size)\n",
    "# nn = NN()\n",
    "# nn = NN(16)\n",
    "choices = nn.forward(board)\n",
    "\n",
    "print(\"List of decision : \")\n",
    "print(choices)\n",
    "print(\"Decision taken : \", choices.argmax())\n",
    "# data.shape\n",
    "\n",
    "# ที่ค่าเปลี่ยนไปทุกครั้งเพราะว่าเราดันไป รีโหลดมันใน consttructure เสมอๆ มันจึง random parameters (W, B) มาใหม่ทุกครรุ้ง (ไม่ดี) -> สิ่งที่ควรทำคือการให้มันเรีนนู้ ไม่ใข่จากการรีรันคอนสตรัคเตอร์"
   ]
  },
  {
   "cell_type": "code",
   "execution_count": 15,
   "id": "90888bbe-5387-46d8-ac46-2abaff1ca857",
   "metadata": {},
   "outputs": [
    {
     "name": "stdout",
     "output_type": "stream",
     "text": [
      "[<__main__.NN object at 0x115547f50>, <__main__.NN object at 0x115584810>, <__main__.NN object at 0x11561f910>, <__main__.NN object at 0x11561df50>, <__main__.NN object at 0x11561e350>]\n"
     ]
    }
   ],
   "source": [
    "number_of_snakes = 5\n",
    "\n",
    "farm = []\n",
    "def restart_simulation():\n",
    "    global farm\n",
    "    \n",
    "    for s in farm:\n",
    "        del(s)\n",
    "    farm = []\n",
    "    for _ in range(number_of_snakes):\n",
    "        S = NN(data_size)\n",
    "        farm.append(S)\n",
    "    print(farm)\n",
    "    \n",
    "restart_simulation()"
   ]
  },
  {
   "cell_type": "code",
   "execution_count": 22,
   "id": "b61cf96d-d11b-4ba6-b8c2-b51e25fea74a",
   "metadata": {
    "scrolled": true
   },
   "outputs": [
    {
     "name": "stdout",
     "output_type": "stream",
     "text": [
      "simulation round  0\n",
      "--------------------------------------------------------------------------------\n",
      "step used :  4\n",
      "simulation round  1\n",
      "--------------------------------------------------------------------------------\n",
      "step used :  4\n",
      "simulation round  2\n",
      "--------------------------------------------------------------------------------\n",
      "step used :  6\n",
      "total reward of snake 00 =  14\n"
     ]
    },
    {
     "name": "stderr",
     "output_type": "stream",
     "text": [
      "/var/folders/tq/1dn18qvs46z75s3216p47sbm0000gn/T/ipykernel_16169/1691413523.py:2: RuntimeWarning: overflow encountered in exp\n",
      "  return 1 / (1 + np.exp(-layer))\n"
     ]
    }
   ],
   "source": [
    "central_nn = NN(data_size)\n",
    "\n",
    "def run_simulation(snake, nb_simulation=3):\n",
    "    total_reward = 0\n",
    "\n",
    "    for _ in range(nb_simulation):\n",
    "        end_game = False\n",
    "\n",
    "        # data\n",
    "        print(\"simulation round \", _)\n",
    "        tester_board = start_board() # reset \n",
    "\n",
    "        step = 1\n",
    "        while (not end_game):\n",
    "            decision_directions_probs = snake.forward(tester_board)\n",
    "            choosed_dir_with_max_prob = decision_directions_probs.argmax()\n",
    "            # print(\"\\t\")\n",
    "            # print(decision_directions_probs * 100)\n",
    "            # print(\"ai snake decided go to direction = \", choosed_dir_with_max_prob)\n",
    "            end_game, food_get_value = update_board(tester_board, choosed_dir_with_max_prob)\n",
    "\n",
    "            \n",
    "\n",
    "            # print(\"step used : \", step)\n",
    "            step += 1\n",
    "            if (food_get_value == 1):\n",
    "                total_reward += 100\n",
    "        print(\"----\" * 20)\n",
    "        total_reward += step\n",
    "\n",
    "        print(\"step used : \", step)\n",
    "\n",
    "    snake.set_reward(total_reward)\n",
    "\n",
    "    return snake._reward\n",
    "\n",
    "data_size = board.shape[0] * board.shape[1]\n",
    "snake_00 = NN(data_size)\n",
    "\n",
    "run_simulation(snake_00, 3)\n",
    "\n",
    "print(\"total reward of snake 00 = \", snake_00._reward)"
   ]
  },
  {
   "cell_type": "code",
   "execution_count": 23,
   "id": "e6568dfe-1b90-4750-b13f-08bf9b7638be",
   "metadata": {},
   "outputs": [
    {
     "data": {
      "text/plain": [
       "array([0.99330715, 0.95257413, 0.26894142])"
      ]
     },
     "execution_count": 23,
     "metadata": {},
     "output_type": "execute_result"
    }
   ],
   "source": [
    "sigmoid_activate(np.array([5, 3, -1]))"
   ]
  },
  {
   "cell_type": "code",
   "execution_count": 24,
   "id": "1bb15787-beea-425d-a274-b679f88be626",
   "metadata": {},
   "outputs": [
    {
     "data": {
      "text/plain": [
       "array([0.88079708, 0.11920292])"
      ]
     },
     "execution_count": 24,
     "metadata": {},
     "output_type": "execute_result"
    }
   ],
   "source": [
    "softmax_activate(np.array([5, 3]))"
   ]
  },
  {
   "cell_type": "code",
   "execution_count": 25,
   "id": "d304ab7e-8b7f-49c9-a41e-c1f69f60bf62",
   "metadata": {},
   "outputs": [
    {
     "data": {
      "text/plain": [
       "array([0.02941176, 0.08823529, 0.26470588])"
      ]
     },
     "execution_count": 25,
     "metadata": {},
     "output_type": "execute_result"
    }
   ],
   "source": [
    "A = np.array([\n",
    "    [1, 2, 3],\n",
    "    [3, -1, 0],\n",
    "    [1, 5, 2]\n",
    "])\n",
    "B = np.array([1, 0, 1]).transpose()\n",
    "\n",
    "np.linalg.solve(A, B)"
   ]
  },
  {
   "cell_type": "code",
   "execution_count": 26,
   "id": "41522525-0bf4-4298-9fa9-08f614ffc3f8",
   "metadata": {},
   "outputs": [
    {
     "name": "stdout",
     "output_type": "stream",
     "text": [
      "SNAKE SAMPLE :  0\n",
      "simulation round  0\n",
      "--------------------------------------------------------------------------------\n",
      "step used :  3\n",
      "simulation round  1\n",
      "--------------------------------------------------------------------------------\n",
      "step used :  6\n",
      "simulation round  2\n",
      "--------------------------------------------------------------------------------\n",
      "step used :  4\n",
      "REWARD :  113\n",
      "\n",
      "\n",
      "\n",
      "SNAKE SAMPLE :  1\n",
      "simulation round  0\n",
      "--------------------------------------------------------------------------------\n",
      "step used :  12\n",
      "simulation round  1\n",
      "--------------------------------------------------------------------------------\n",
      "step used :  8\n",
      "simulation round  2\n",
      "--------------------------------------------------------------------------------\n",
      "step used :  6\n",
      "REWARD :  26\n",
      "\n",
      "\n",
      "\n",
      "SNAKE SAMPLE :  2\n",
      "simulation round  0\n",
      "--------------------------------------------------------------------------------\n",
      "step used :  12\n",
      "simulation round  1\n",
      "--------------------------------------------------------------------------------\n",
      "step used :  10\n",
      "simulation round  2\n",
      "--------------------------------------------------------------------------------\n",
      "step used :  6\n",
      "REWARD :  28\n",
      "\n",
      "\n",
      "\n",
      "SNAKE SAMPLE :  3\n",
      "simulation round  0\n",
      "--------------------------------------------------------------------------------\n",
      "step used :  4\n",
      "simulation round  1\n",
      "--------------------------------------------------------------------------------\n",
      "step used :  15\n",
      "simulation round  2\n",
      "--------------------------------------------------------------------------------\n",
      "step used :  5\n",
      "REWARD :  24\n",
      "\n",
      "\n",
      "\n",
      "SNAKE SAMPLE :  4\n",
      "simulation round  0\n",
      "--------------------------------------------------------------------------------\n",
      "step used :  8\n",
      "simulation round  1\n",
      "--------------------------------------------------------------------------------\n",
      "step used :  4\n",
      "simulation round  2\n",
      "--------------------------------------------------------------------------------\n",
      "step used :  8\n",
      "REWARD :  20\n",
      "\n",
      "\n",
      "\n"
     ]
    },
    {
     "name": "stderr",
     "output_type": "stream",
     "text": [
      "/var/folders/tq/1dn18qvs46z75s3216p47sbm0000gn/T/ipykernel_16169/1691413523.py:2: RuntimeWarning: overflow encountered in exp\n",
      "  return 1 / (1 + np.exp(-layer))\n"
     ]
    },
    {
     "data": {
      "image/png": "[encoded data removed]",
      "text/plain": [
       "<Figure size 640x480 with 1 Axes>"
      ]
     },
     "metadata": {},
     "output_type": "display_data"
    }
   ],
   "source": [
    "def run_global_simulation():\n",
    "    global farm\n",
    "    rewards = []\n",
    "    for i, snk in enumerate(farm):\n",
    "        print(\"SNAKE SAMPLE : \", i)\n",
    "        rewards.append(run_simulation(snk))\n",
    "        print(\"REWARD : \", rewards[i])\n",
    "        print()\n",
    "        print()\n",
    "        print()\n",
    "\n",
    "    plt.hist(rewards)\n",
    "    plt.show()\n",
    "\n",
    "run_global_simulation()"
   ]
  },
  {
   "cell_type": "code",
   "execution_count": 27,
   "id": "0158bb2a-dd80-406f-9668-b5f4283bac2a",
   "metadata": {},
   "outputs": [
    {
     "name": "stdout",
     "output_type": "stream",
     "text": [
      "[30 20 20 30]\n",
      "[0.4        0.5        0.58571429 0.58571429]\n",
      "51.28571428571429\n"
     ]
    }
   ],
   "source": [
    "score_weights = np.array([30, 20, 20, 30])\n",
    "myscores = np.array([\n",
    "    80 / 200, \n",
    "    10 / 20, \n",
    "    41 / 70,\n",
    "    41 / 70\n",
    "]\n",
    ")\n",
    "\n",
    "# score_percentages\n",
    "# myscores * score_weights\n",
    "print(score_weights)\n",
    "print(myscores)\n",
    "real_score = myscores * score_weights\n",
    "sum_score = real_score.sum()\n",
    "\n",
    "print(sum_score)"
   ]
  },
  {
   "cell_type": "code",
   "execution_count": 28,
   "id": "e1705d84-4247-485e-8f7b-33426b9a2433",
   "metadata": {},
   "outputs": [
    {
     "name": "stdout",
     "output_type": "stream",
     "text": [
      "reward :  113\n",
      "reward :  26\n",
      "reward :  28\n",
      "reward :  24\n",
      "reward :  20\n"
     ]
    }
   ],
   "source": [
    "# farm[0]._reward\n",
    "for snk in farm:\n",
    "    print(\"reward : \", snk._reward)"
   ]
  },
  {
   "cell_type": "code",
   "execution_count": 29,
   "id": "6524c06e-e3c2-44fe-a9f5-be0eedc0d30b",
   "metadata": {},
   "outputs": [],
   "source": [
    "def darwin_cleaner():\n",
    "    global farm\n",
    "\n",
    "    # new_farm = farm\n",
    "\n",
    "    new_species = []\n",
    "    # for i in range(len(farm) - ):\n",
    "\n"
   ]
  },
  {
   "cell_type": "code",
   "execution_count": 30,
   "id": "0ee7371d-778d-4785-bddc-caf4dca78dd7",
   "metadata": {},
   "outputs": [
    {
     "data": {
      "text/plain": [
       "array([0, 1, 1, 2, 3])"
      ]
     },
     "execution_count": 30,
     "metadata": {},
     "output_type": "execute_result"
    }
   ],
   "source": [
    "rand_cov = np.random.random()\n",
    "B = np.array([0, 1, 2, 3, 90])\n",
    "# bins\n",
    "A = np.array([1, 3, 5]) \n",
    "np.digitize(B, A) # indices"
   ]
  },
  {
   "cell_type": "code",
   "execution_count": 31,
   "id": "f8e6d877-b1fe-4d12-bb24-00a32af747ce",
   "metadata": {},
   "outputs": [
    {
     "data": {
      "text/plain": [
       "array([[1.  , 0.  , 0.16, 1.  , 1.  , 0.  , 0.  , 1.  ],\n",
       "       [1.  , 1.  , 0.  , 1.  , 0.  , 1.  , 0.  , 1.  ],\n",
       "       [0.  , 1.  , 1.  , 1.  , 0.  , 0.  , 1.  , 1.  ],\n",
       "       [1.  , 0.  , 1.  , 1.  , 1.  , 0.  , 0.75, 1.  ]])"
      ]
     },
     "execution_count": 31,
     "metadata": {},
     "output_type": "execute_result"
    }
   ],
   "source": [
    "shape = (4, 8) # 8 points # 4 inputs\n",
    "chromosome = np.empty(shape)\n",
    "chromosome"
   ]
  },
  {
   "cell_type": "code",
   "execution_count": 32,
   "id": "6de5241e-a4b0-4386-a2a9-e4b3ac82f831",
   "metadata": {},
   "outputs": [
    {
     "data": {
      "text/plain": [
       "array([7.29112900e-304, 7.29290211e-304, 7.74681717e-304, 7.74682413e-304])"
      ]
     },
     "execution_count": 32,
     "metadata": {},
     "output_type": "execute_result"
    }
   ],
   "source": [
    "np.empty(4) # without initailzation"
   ]
  },
  {
   "cell_type": "code",
   "execution_count": 33,
   "id": "cf124677-f8b8-4697-bdc4-0377ec42d9d2",
   "metadata": {},
   "outputs": [
    {
     "data": {
      "text/plain": [
       "array([1.  , 0.  , 0.16, 1.  , 1.  , 0.  , 0.  , 1.  ])"
      ]
     },
     "execution_count": 33,
     "metadata": {},
     "output_type": "execute_result"
    }
   ],
   "source": [
    "chromosome[0]"
   ]
  },
  {
   "cell_type": "code",
   "execution_count": 34,
   "id": "aa5d4055-2363-4aa1-bf30-ff4ed21bc6df",
   "metadata": {},
   "outputs": [
    {
     "data": {
      "text/plain": [
       "array([[ 0.  ,  1.  ,  4.  ,  9.  , 16.  , 25.  , 36.  , 49.  ],\n",
       "       [ 1.  ,  1.  ,  0.  ,  1.  ,  0.  ,  1.  ,  0.  ,  1.  ],\n",
       "       [ 0.  ,  1.  ,  1.  ,  1.  ,  0.  ,  0.  ,  1.  ,  1.  ],\n",
       "       [ 1.  ,  0.  ,  1.  ,  1.  ,  1.  ,  0.  ,  0.75,  1.  ]])"
      ]
     },
     "execution_count": 34,
     "metadata": {},
     "output_type": "execute_result"
    }
   ],
   "source": [
    "chromosome[0] = np.array([_  ** 2 for _ in range(8)])\n",
    "chromosome"
   ]
  },
  {
   "cell_type": "code",
   "execution_count": 35,
   "id": "f3b884e9-3e5c-4829-b78b-24e7144b5bcb",
   "metadata": {},
   "outputs": [
    {
     "data": {
      "text/plain": [
       "array([ 0,  1,  3,  6, 10, 15, 21, 28, 36, 45, 55])"
      ]
     },
     "execution_count": 35,
     "metadata": {},
     "output_type": "execute_result"
    }
   ],
   "source": [
    "np.cumsum(np.arange(11))"
   ]
  },
  {
   "cell_type": "code",
   "execution_count": 36,
   "id": "efeeccba-b35d-43cc-9903-09a25b90fa51",
   "metadata": {},
   "outputs": [
    {
     "data": {
      "text/plain": [
       "array([[0.21382167, 0.57729003, 0.67079029, 0.97110693, 0.4723198 ],\n",
       "       [0.16263157, 0.45240193, 0.24807018, 0.57647247, 0.88751994]])"
      ]
     },
     "execution_count": 36,
     "metadata": {},
     "output_type": "execute_result"
    }
   ],
   "source": [
    "np.random.uniform(0, 1, size=(2, 5))"
   ]
  },
  {
   "cell_type": "code",
   "execution_count": 37,
   "id": "2aea05d4-abb7-435c-a40d-734e17ec0728",
   "metadata": {},
   "outputs": [],
   "source": [
    "\n",
    "def single_point_binary_crossover(parent1: np.ndarray, parent2: np.ndarray, major='r') -> Tuple[np.ndarray, np.ndarray]:\n",
    "    offspring1 = parent1.copy()\n",
    "    offspring2 = parent2.copy()\n",
    "\n",
    "    rows, cols = parent2.shape\n",
    "    # row = np.random.randint(0, rows)\n",
    "    # col = np.random.randint(0, cols)\n",
    "    row = rows // 2\n",
    "    col = cols // 2\n",
    "\n",
    "    if major.lower() == 'r':\n",
    "        offspring1[:row, :] = parent2[:row, :]\n",
    "        offspring2[:row, :] = parent1[:row, :]\n",
    "\n",
    "        offspring1[row, :col+1] = parent2[row, :col+1]\n",
    "        offspring2[row, :col+1] = parent1[row, :col+1]\n",
    "    elif major.lower() == 'c':\n",
    "        offspring1[:, :col] = parent2[:, :col]\n",
    "        offspring2[:, :col] = parent1[:, :col]\n",
    "\n",
    "        offspring1[:row+1, col] = parent2[:row+1, col]\n",
    "        offspring2[:row+1, col] = parent1[:row+1, col]\n",
    "\n",
    "    return offspring1, offspring2"
   ]
  },
  {
   "cell_type": "code",
   "execution_count": 38,
   "id": "2596c1c7-7892-43a5-b66b-06f40ebfb59e",
   "metadata": {},
   "outputs": [
    {
     "name": "stdout",
     "output_type": "stream",
     "text": [
      "[[ 0.  1.  2.  3.  4.  5.  6.  7.  8.  9.]\n",
      " [10. 11. 12. 13. 14. 15. 16. 17. 18. 19.]]\n",
      "[[ -0.  -1.  -2.  -3.  -4.  -5.  -6.  -7.  -8.  -9.]\n",
      " [-10. -11. -12. -13. -14. -15. -16. -17. -18. -19.]]\n"
     ]
    },
    {
     "data": {
      "text/plain": [
       "(array([[ -0.,  -1.,  -2.,  -3.,  -4.,  -5.,  -6.,  -7.,  -8.,  -9.],\n",
       "        [-10., -11., -12., -13., -14., -15.,  16.,  17.,  18.,  19.]]),\n",
       " array([[  0.,   1.,   2.,   3.,   4.,   5.,   6.,   7.,   8.,   9.],\n",
       "        [ 10.,  11.,  12.,  13.,  14.,  15., -16., -17., -18., -19.]]))"
      ]
     },
     "execution_count": 38,
     "metadata": {},
     "output_type": "execute_result"
    }
   ],
   "source": [
    "def uniform_binary_crossover(parent1: np.ndarray, parent2: np.ndarray) -> Tuple[np.ndarray, np.ndarray]:\n",
    "    offspring1 = parent1.copy()\n",
    "    offspring2 = parent2.copy()\n",
    "    \n",
    "    mask = np.random.uniform(0, 1, size=offspring1.shape)\n",
    "    offspring1[mask > 0.5] = parent2[mask > 0.5]\n",
    "    offspring2[mask > 0.5] = parent1[mask > 0.5]\n",
    "\n",
    "    return offspring1, offspring2\n",
    "    \n",
    "chromosome = np.arange(20.0).reshape(2, 10)\n",
    "cms_a = chromosome.copy()\n",
    "cms_b = chromosome.copy()\n",
    "# cms_b *= np.random.uniform(0, 0.2, cms_a.shape)\n",
    "cms_b *= -1\n",
    "# cms_b *= np.random.uniform(0, 0.2, cms_a.shape)\n",
    "\n",
    "print(cms_a)\n",
    "print(cms_b)\n",
    "\n",
    "# uniform_binary_crossover(\n",
    "single_point_binary_crossover(\n",
    " cms_a, cms_b   \n",
    ")"
   ]
  },
  {
   "cell_type": "code",
   "execution_count": null,
   "id": "18897278-c2aa-4735-b9d3-0a98951e6335",
   "metadata": {},
   "outputs": [],
   "source": []
  },
  {
   "cell_type": "code",
   "execution_count": null,
   "id": "ce47949d-b122-4226-89d9-967b66af5053",
   "metadata": {},
   "outputs": [],
   "source": []
  }
 ],
 "metadata": {
  "kernelspec": {
   "display_name": "Python 3 (ipykernel)",
   "language": "python",
   "name": "python3"
  },
  "language_info": {
   "codemirror_mode": {
    "name": "ipython",
    "version": 3
   },
   "file_extension": ".py",
   "mimetype": "text/x-python",
   "name": "python",
   "nbconvert_exporter": "python",
   "pygments_lexer": "ipython3",
   "version": "3.11.4"
  }
 },
 "nbformat": 4,
 "nbformat_minor": 5
}
